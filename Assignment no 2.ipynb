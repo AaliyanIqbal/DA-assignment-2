{
 "cells": [
  {
   "cell_type": "code",
   "execution_count": 10,
   "id": "a90347da-c46d-4b26-a1b4-7c527e26295c",
   "metadata": {},
   "outputs": [
    {
     "name": "stdin",
     "output_type": "stream",
     "text": [
      "Enter your Age 12\n"
     ]
    }
   ],
   "source": []
  },
  {
   "cell_type": "code",
   "execution_count": 22,
   "id": "92c049ba-f393-4318-b0f4-2c90e1989c3f",
   "metadata": {},
   "outputs": [
    {
     "name": "stdin",
     "output_type": "stream",
     "text": [
      "Enter your Age 12\n"
     ]
    },
    {
     "name": "stdout",
     "output_type": "stream",
     "text": [
      "You are Child\n"
     ]
    }
   ],
   "source": [
    "age = int(input(\"Enter your Age\"))\n",
    "\n",
    "if age >= 0 and age <=12:\n",
    "    print(\"You are Child\")\n",
    "elif age >= 13 and age <=19:\n",
    "    print(\"You are Teenager\")\n",
    "elif age >= 20 and age <=64:\n",
    "    print(\"You are Adult\")\n",
    "else:\n",
    "    print(\"You are Elder\")"
   ]
  },
  {
   "cell_type": "code",
   "execution_count": 33,
   "id": "5c532aba-7201-4507-97f2-386bcf7243f3",
   "metadata": {},
   "outputs": [
    {
     "name": "stdin",
     "output_type": "stream",
     "text": [
      "Enter your membership status:  premium\n",
      "Enter your ammount:  5999\n"
     ]
    },
    {
     "name": "stdout",
     "output_type": "stream",
     "text": [
      "Eligible for Discount\n"
     ]
    }
   ],
   "source": [
    "m_status = str(input(\"Enter your membership status: \"))\n",
    "ammount = int(input(\"Enter your ammount: \"))\n",
    "\n",
    "if m_status == \"Premium\" or ammount >=1000:\n",
    "    print(\"Eligible for Discount\")\n",
    "elif m_status == \"Regular\" or ammount >=2000:\n",
    "    print(\"Eligible for Discount\")\n",
    "else:\n",
    "    print(\"Not Eligible for Discount\")"
   ]
  },
  {
   "cell_type": "code",
   "execution_count": 35,
   "id": "ad164690-3d11-428b-bc4b-d08b5a8da87b",
   "metadata": {},
   "outputs": [
    {
     "name": "stdin",
     "output_type": "stream",
     "text": [
      "Enter your Citizen status: Citizen/non-Citizen non\n",
      "Enter your age 18\n"
     ]
    },
    {
     "name": "stdout",
     "output_type": "stream",
     "text": [
      "Not Eligible to Vote\n"
     ]
    }
   ],
   "source": [
    "c_status = str(input(\"Enter your Citizen status: Citizen/non-Citizen\"))\n",
    "age = int(input(\"Enter your age\"))\n",
    "\n",
    "if c_status == \"citizen\" and age >=18:\n",
    "    print(\"Eligible to Vote\")\n",
    "elif c_status == \"citizen\" and age >=16:\n",
    "    print(\"Eligible to Vote\")\n",
    "else:\n",
    "    print(\"Not Eligible to Vote\")"
   ]
  },
  {
   "cell_type": "code",
   "execution_count": null,
   "id": "d1d9647c-239e-4e5b-b59d-4cccc35defb0",
   "metadata": {},
   "outputs": [],
   "source": []
  },
  {
   "cell_type": "code",
   "execution_count": 38,
   "id": "3b37877c-409f-4961-8025-d7f3b3652ce9",
   "metadata": {},
   "outputs": [
    {
     "name": "stdin",
     "output_type": "stream",
     "text": [
      "Enter Employee Performance Rating Excellent\n",
      "Enter No. of Experience in Years 6\n"
     ]
    },
    {
     "name": "stdout",
     "output_type": "stream",
     "text": [
      "Eligible for bonus\n"
     ]
    }
   ],
   "source": [
    "emp_per_rating = str(input(\"Enter Employee Performance Rating\"))\n",
    "exp_years = int(input(\"Enter No. of Experience in Years\"))\n",
    "\n",
    "if emp_per_rating == \"Excellent\" and exp_years >=5:\n",
    "    print(\"Eligible for bonus\")\n",
    "elif emp_per_rating == \"Good\" and exp_years >=10:\n",
    "    print(\"Eligible for bonus\")\n",
    "elif emp_per_rating == \"Satisfactory\" and exp_years >=15:\n",
    "    print(\"Eligible for bonus\")\n",
    "else:\n",
    "    print(\"Not Eligible for Bonus\")"
   ]
  },
  {
   "cell_type": "code",
   "execution_count": 41,
   "id": "94f236d3-c7cf-4a2a-b487-f1c9c16944dc",
   "metadata": {},
   "outputs": [
    {
     "name": "stdout",
     "output_type": "stream",
     "text": [
      "I'm_learning_Python_programming\n",
      "3\n"
     ]
    }
   ],
   "source": [
    "a = \"I'm learning Python programming\"\n",
    "\n",
    "modified_text = a.replace(\" \",\"_\")\n",
    "count = modified_text.count(\"_\")\n",
    "\n",
    "print(modified_text)\n",
    "print(count)"
   ]
  },
  {
   "cell_type": "code",
   "execution_count": 53,
   "id": "b34378a6-dae8-45ea-9ebc-4deac76e79d7",
   "metadata": {},
   "outputs": [
    {
     "name": "stdin",
     "output_type": "stream",
     "text": [
      "Enter a string:  testing\n"
     ]
    },
    {
     "name": "stdout",
     "output_type": "stream",
     "text": [
      "All characters except the last 3: test\n",
      "Every second character: tsig\n",
      "String in reverse: gnitset\n"
     ]
    }
   ],
   "source": [
    "text = input(\"Enter a string: \")\n",
    "\n",
    "\n",
    "print(\"All characters except the last 3:\", text[:-3])\n",
    "\n",
    "\n",
    "print(\"Every second character:\", text[::2])\n",
    "\n",
    "\n",
    "print(\"String in reverse:\", text[::-1])"
   ]
  },
  {
   "cell_type": "code",
   "execution_count": 54,
   "id": "a0c56364-baef-42bc-9fef-7642aeb437e1",
   "metadata": {},
   "outputs": [
    {
     "name": "stdout",
     "output_type": "stream",
     "text": [
      "String in reverse: nohtyP gninrael era eW ,dlroW olleH\n"
     ]
    }
   ],
   "source": [
    "text = \"Hello World, We are learning Python\"\n",
    "print(\"String in reverse:\", text[::-1])\n"
   ]
  },
  {
   "cell_type": "code",
   "execution_count": 63,
   "id": "2691ea3a-1a79-47c4-979f-cdacb653443b",
   "metadata": {},
   "outputs": [
    {
     "name": "stdout",
     "output_type": "stream",
     "text": [
      "12345\n"
     ]
    }
   ],
   "source": [
    "text = \"SKU-12345-XYZ\"\n",
    "pre_text = text.removeprefix(\"SKU-\")\n",
    "post_text = pre_text.removesuffix(\"-XYZ\")\n",
    "\n",
    "print(post_text)"
   ]
  },
  {
   "cell_type": "code",
   "execution_count": 65,
   "id": "ae7a4cdc-887b-4fcc-9e89-fdf16bb79687",
   "metadata": {},
   "outputs": [
    {
     "name": "stdin",
     "output_type": "stream",
     "text": [
      "Enter your password:  33333ddd  \n"
     ]
    },
    {
     "name": "stdout",
     "output_type": "stream",
     "text": [
      "False True True\n"
     ]
    }
   ],
   "source": [
    "password = input(\"Enter your password: \")\n",
    "\n",
    "has_uppercase = any(char.isupper() for char in password)\n",
    "\n",
    "has_lowercase = any(char.islower() for char in password)\n",
    "\n",
    "has_spaces = any(char.isspace() for char in password)\n",
    "\n",
    "\n",
    "print(has_uppercase,has_lowercase,has_spaces)"
   ]
  },
  {
   "cell_type": "code",
   "execution_count": 74,
   "id": "7b18a901-c655-4af3-b3c9-4bbe4304e5b2",
   "metadata": {},
   "outputs": [
    {
     "name": "stdout",
     "output_type": "stream",
     "text": [
      "The longest word is: programming\n"
     ]
    }
   ],
   "source": [
    "text = (\"I love programming in Python\")\n",
    "\n",
    "words = text.split()\n",
    "\n",
    "longest_word = max(words, key=len)\n",
    "\n",
    "print(\"The longest word is:\", longest_word,)"
   ]
  },
  {
   "cell_type": "code",
   "execution_count": null,
   "id": "8dd56495-3466-4438-919a-88430eb5a7d4",
   "metadata": {},
   "outputs": [],
   "source": []
  }
 ],
 "metadata": {
  "kernelspec": {
   "display_name": "Python 3 (ipykernel)",
   "language": "python",
   "name": "python3"
  },
  "language_info": {
   "codemirror_mode": {
    "name": "ipython",
    "version": 3
   },
   "file_extension": ".py",
   "mimetype": "text/x-python",
   "name": "python",
   "nbconvert_exporter": "python",
   "pygments_lexer": "ipython3",
   "version": "3.11.5"
  }
 },
 "nbformat": 4,
 "nbformat_minor": 5
}
